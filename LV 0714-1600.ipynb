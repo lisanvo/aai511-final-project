{
 "cells": [
  {
   "cell_type": "code",
   "execution_count": 1,
   "id": "c1322c17-f836-44f9-be0c-3ba280896d5a",
   "metadata": {},
   "outputs": [],
   "source": [
    "#%pip install -U pretty_midi"
   ]
  },
  {
   "cell_type": "code",
   "execution_count": 2,
   "id": "a01be2f4-9dd8-4fbd-b21a-70469ba3ccdc",
   "metadata": {},
   "outputs": [
    {
     "name": "stderr",
     "output_type": "stream",
     "text": [
      "2024-07-14 23:25:09.804680: I tensorflow/core/platform/cpu_feature_guard.cc:193] This TensorFlow binary is optimized with oneAPI Deep Neural Network Library (oneDNN) to use the following CPU instructions in performance-critical operations:  SSE4.1 SSE4.2 AVX AVX2 FMA\n",
      "To enable them in other operations, rebuild TensorFlow with the appropriate compiler flags.\n"
     ]
    }
   ],
   "source": [
    "#%pip install -U pretty_midi\n",
    "#%pip install matplotlib\n",
    "#%pip install seaborn\n",
    "import pretty_midi\n",
    "import os\n",
    "import csv\n",
    "import numpy as np\n",
    "import pandas as pd\n",
    "import seaborn as sns\n",
    "import matplotlib.pyplot as plt\n",
    "\n",
    "from matplotlib import cm\n",
    "\n",
    "from sklearn.model_selection import train_test_split\n",
    "from sklearn.svm import SVC\n",
    "from sklearn.metrics import accuracy_score, precision_score, recall_score, f1_score, roc_auc_score, confusion_matrix,accuracy_score, f1_score,classification_report, ConfusionMatrixDisplay\n",
    "from sklearn.preprocessing import StandardScaler\n",
    "\n",
    "from keras.utils import to_categorical\n",
    "from tensorflow.keras.models import Sequential\n",
    "from tensorflow.keras.layers import LSTM, Conv1D, MaxPooling1D, GlobalAveragePooling1D, Dense, BatchNormalization, Dropout, Activation\n",
    "from tensorflow.keras.optimizers import Adam\n",
    "from tensorflow.keras.callbacks import ReduceLROnPlateau, EarlyStopping"
   ]
  },
  {
   "cell_type": "code",
   "execution_count": 3,
   "id": "ba4747c3-a482-4143-b566-8c29db6912c2",
   "metadata": {},
   "outputs": [],
   "source": [
    "data_dir = \"Four_composers\""
   ]
  },
  {
   "cell_type": "markdown",
   "id": "0f257e38-b696-4b1b-abef-b556a2aea436",
   "metadata": {},
   "source": [
    "### Extract the relevant features from each MIDI file. Store the features in a list X, and the associated composer in a list y. "
   ]
  },
  {
   "cell_type": "code",
   "execution_count": 4,
   "id": "0782e170-775d-40de-b8c9-a1e11af1cd99",
   "metadata": {},
   "outputs": [
    {
     "name": "stdout",
     "output_type": "stream",
     "text": [
      "Error parsing MIDI file Four_composers/Mozart/Piano Sonatas/Nueva carpeta/K281 Piano Sonata n03 3mov.mid: Could not decode key with 2 flats and mode 2\n",
      "Skipping file Four_composers/Mozart/Piano Sonatas/Nueva carpeta/K281 Piano Sonata n03 3mov.mid due to errors\n",
      "Error parsing MIDI file Four_composers/Beethoven/Anhang 14-3.mid: Could not decode key with 3 flats and mode 255\n",
      "Skipping file Four_composers/Beethoven/Anhang 14-3.mid due to errors\n"
     ]
    }
   ],
   "source": [
    "import warnings\n",
    "\n",
    "def extract_features(midi_file):\n",
    "    try:\n",
    "        with warnings.catch_warnings():\n",
    "            warnings.filterwarnings(\"ignore\", category=RuntimeWarning, message=\"Tempo, Key or Time signature change events found on non-zero tracks\")\n",
    "            midi_data = pretty_midi.PrettyMIDI(midi_file)\n",
    "    except IOError as e:\n",
    "        print(f\"Error reading file {midi_file}: {str(e)}\")\n",
    "        return None\n",
    "    except Exception as e:\n",
    "        print(f\"Error parsing MIDI file {midi_file}: {str(e)}\")\n",
    "        return None\n",
    "\n",
    "    try:\n",
    "        tempo_changes = midi_data.get_tempo_changes()\n",
    "        tempo = tempo_changes[1][0] if len(tempo_changes) > 1 and len(tempo_changes[1]) > 0 else 120\n",
    "    except IndexError:\n",
    "        tempo = 120\n",
    "\n",
    "    num_instruments = len(midi_data.instruments)\n",
    "    \n",
    "    total_velocity = 0\n",
    "    total_notes = 0\n",
    "    for instrument in midi_data.instruments:\n",
    "        total_velocity += sum(note.velocity for note in instrument.notes)\n",
    "        total_notes += len(instrument.notes)\n",
    "    \n",
    "    avg_velocity = total_velocity / total_notes if total_notes > 0 else 0\n",
    "    \n",
    "    pitch_classes = [0] * 12\n",
    "    for instrument in midi_data.instruments:\n",
    "        for note in instrument.notes:\n",
    "            pitch_classes[note.pitch % 12] += 1\n",
    "    \n",
    "    # Ignore key signature errors\n",
    "    try:\n",
    "        key = midi_data.key_signature_changes[0].key_number if midi_data.key_signature_changes else 0\n",
    "    except (ValueError, IndexError):\n",
    "        key = 0\n",
    "\n",
    "    return [tempo, num_instruments, avg_velocity, key] + pitch_classes\n",
    "\n",
    "X = []\n",
    "y = []\n",
    "error_count = 0\n",
    "for composer in os.listdir(data_dir):\n",
    "    composer_dir = os.path.join(data_dir, composer)\n",
    "    if os.path.isdir(composer_dir):\n",
    "        for root, dirs, files in os.walk(composer_dir):\n",
    "            for midi_file in files:\n",
    "                if midi_file.endswith('.mid'):\n",
    "                    file_path = os.path.join(root, midi_file)\n",
    "                    features = extract_features(file_path)\n",
    "                    if features is not None:\n",
    "                        X.append(features)\n",
    "                        y.append(composer)\n",
    "                    else:\n",
    "                        error_count += 1\n",
    "                        print(f\"Skipping file {file_path} due to errors\")\n",
    "\n",
    "if error_count == 0:\n",
    "    print(\"No errors found in dataset.\")"
   ]
  },
  {
   "cell_type": "markdown",
   "id": "16d8074f-4492-4fd6-b500-9481d67d25d5",
   "metadata": {},
   "source": [
    "### Convert X into an array. Perform train-test split."
   ]
  },
  {
   "cell_type": "code",
   "execution_count": 6,
   "id": "6cc7a0de-d32e-410c-8fef-42d84b4a6fcc",
   "metadata": {
    "tags": []
   },
   "outputs": [],
   "source": [
    "X_np = np.array(X)\n",
    "y_np = np.array(y)"
   ]
  },
  {
   "cell_type": "code",
   "execution_count": 7,
   "id": "ecdebdfa-f16d-42b9-9236-bde468333bed",
   "metadata": {},
   "outputs": [],
   "source": [
    "X_train, X_test, y_train, y_test = train_test_split(X_np, y_np, test_size=0.2)"
   ]
  },
  {
   "cell_type": "markdown",
   "id": "fb716111-782a-4922-a1e1-cc34cca95bbe",
   "metadata": {},
   "source": [
    "### Standard Scaling on X_train and X_test."
   ]
  },
  {
   "cell_type": "code",
   "execution_count": 8,
   "id": "f6b7c1b6-f3d3-4bcb-9332-2371ffbdb778",
   "metadata": {},
   "outputs": [],
   "source": [
    "# Scale the features\n",
    "scaler = StandardScaler()\n",
    "X_train_scaled = scaler.fit_transform(X_train)\n",
    "X_test_scaled = scaler.transform(X_test)"
   ]
  },
  {
   "cell_type": "markdown",
   "id": "9996f23b-6651-4cc1-91e6-99f02205f857",
   "metadata": {},
   "source": [
    "### SMOTE resampling on the training sets"
   ]
  },
  {
   "cell_type": "code",
   "execution_count": 9,
   "id": "cea17fe0-212a-4040-a523-ca0c7d791864",
   "metadata": {},
   "outputs": [],
   "source": [
    "#%pip install -U -q imbalanced-learn\n",
    "from imblearn.over_sampling import SMOTE\n",
    "\n",
    "smote = SMOTE(random_state=42)\n",
    "X_train_scaled_smote, y_train_smote = smote.fit_resample(X_train_scaled, y_train)"
   ]
  },
  {
   "cell_type": "markdown",
   "id": "0e552965-c165-4723-9ab7-fca1f3dd763e",
   "metadata": {},
   "source": [
    "### Visualize the data imbalance, and correction after SMOTE."
   ]
  },
  {
   "cell_type": "code",
   "execution_count": 10,
   "id": "89b6f282-95aa-415f-9200-b7a64c624f84",
   "metadata": {},
   "outputs": [
    {
     "data": {
      "image/png": "[encoded data removed]",
      "text/plain": [
       "<Figure size 600x300 with 2 Axes>"
      ]
     },
     "metadata": {},
     "output_type": "display_data"
    }
   ],
   "source": [
    "# Convert y_train and y_train_smote to pandas Series\n",
    "y_train_series = pd.Series(y_train)\n",
    "y_train_smote_series = pd.Series(y_train_smote)\n",
    "\n",
    "f = plt.figure(figsize=(6, 3))\n",
    "plt.subplots_adjust(wspace=0.3, hspace=0.5)\n",
    "\n",
    "# Plot before SMOTE\n",
    "ax1 = f.add_subplot(1, 2, 1)\n",
    "y_train_series.value_counts().plot(kind='bar', ax=ax1)\n",
    "ax1.set_title(\"Before SMOTE\")\n",
    "ax1.set_ylabel(\"Count\")\n",
    "\n",
    "# Plot after SMOTE\n",
    "ax2 = f.add_subplot(1, 2, 2)\n",
    "y_train_smote_series.value_counts().plot(kind='bar', ax=ax2)\n",
    "ax2.set_title(\"After SMOTE\")\n",
    "ax2.set_ylabel(\"Count\")\n",
    "\n",
    "plt.tight_layout()\n",
    "plt.show()"
   ]
  },
  {
   "cell_type": "markdown",
   "id": "fe96445b-a16c-44f7-b70f-8fba6cc8c5ee",
   "metadata": {},
   "source": [
    "### SVM"
   ]
  },
  {
   "cell_type": "code",
   "execution_count": null,
   "id": "0003acf8-c00b-4e96-b100-a096e16ad4df",
   "metadata": {},
   "outputs": [],
   "source": [
    "# # Train a Support Vector Machine classifier\n",
    "# svm_clf = SVC(kernel='rbf', gamma=0.4, degree=5, C=18.0, decision_function_shape='ovr')\n",
    "# svm_clf.fit(X_train_scaled_smote, y_train_smote)"
   ]
  },
  {
   "cell_type": "markdown",
   "id": "4dae801a-c780-4b42-a406-954f5a255670",
   "metadata": {},
   "source": [
    "### Train model using radial basis vector kernel."
   ]
  },
  {
   "cell_type": "code",
   "execution_count": null,
   "id": "2b568796-bc08-4bf4-b545-f56345390006",
   "metadata": {},
   "outputs": [],
   "source": [
    "# y_pred = svm_clf.predict(X_test_scaled)\n",
    "# rbf_accuracy = accuracy_score(y_test, y_pred)\n",
    "# rbf_f1 = f1_score(y_test, y_pred, average='weighted')\n",
    "# print('Accuracy (RBF Kernel): ', \"%.2f\" % (rbf_accuracy*100))\n",
    "# print('F1 (RBF Kernel): ', \"%.2f\" % (rbf_f1*100))"
   ]
  },
  {
   "cell_type": "code",
   "execution_count": null,
   "id": "e699a9db-383e-437c-8a68-c49bcd07d92c",
   "metadata": {},
   "outputs": [],
   "source": [
    "# # Generate and print the classification report\n",
    "# report = classification_report(y_test, y_pred, zero_division=1)\n",
    "# print(\"Classification Report:\")\n",
    "# print(report)"
   ]
  },
  {
   "cell_type": "markdown",
   "id": "71ea7b80-11a3-4e4d-923c-65873b4f8b0c",
   "metadata": {},
   "source": [
    "### Print confusion matrix."
   ]
  },
  {
   "cell_type": "code",
   "execution_count": null,
   "id": "24fb791f-ab21-4a8e-be5e-6e2fe65d7101",
   "metadata": {},
   "outputs": [],
   "source": [
    "# labels = sorted(set(y_test) | set(y_pred))\n",
    "\n",
    "# cmatrix = confusion_matrix(y_test, y_pred, labels=labels)\n",
    "# fontsize = 7\n",
    "# figsize = (7, 6)  # Increased figure size for better readability\n",
    "# cmap = plt.colormaps.get_cmap(\"Blues\")\n",
    "# fig, ax = plt.subplots(figsize=figsize)\n",
    "\n",
    "# sns.heatmap(cmatrix, \n",
    "#             annot=True, \n",
    "#             cmap=cmap, \n",
    "#             cbar=True, \n",
    "#             ax=ax, \n",
    "#             linewidths=0.5,\n",
    "#             fmt='d',\n",
    "#             annot_kws={'fontsize': 14},\n",
    "#             xticklabels=labels,\n",
    "#             yticklabels=labels)\n",
    "\n",
    "# plt.xlabel('Predicted', fontsize=12)\n",
    "# plt.ylabel('Actual', fontsize=12)\n",
    "# plt.title('Confusion Matrix', fontsize=14)\n",
    "\n",
    "# plt.setp(ax.get_xticklabels(), rotation=45, ha=\"right\", rotation_mode=\"anchor\")\n",
    "# plt.setp(ax.get_yticklabels(), rotation=0, ha=\"right\")\n",
    "\n",
    "# plt.tight_layout()\n",
    "# plt.show()"
   ]
  },
  {
   "cell_type": "code",
   "execution_count": 11,
   "id": "8dea9c35-f21b-45fb-b2cc-0cb10de9d490",
   "metadata": {
    "tags": []
   },
   "outputs": [
    {
     "data": {
      "text/plain": [
       "(2924, 16)"
      ]
     },
     "execution_count": 11,
     "metadata": {},
     "output_type": "execute_result"
    }
   ],
   "source": [
    "X_train_scaled_smote.shape"
   ]
  },
  {
   "cell_type": "code",
   "execution_count": 12,
   "id": "374df505-5b61-4f32-98d2-60074baa949a",
   "metadata": {
    "tags": []
   },
   "outputs": [
    {
     "data": {
      "text/plain": [
       "(306, 16)"
      ]
     },
     "execution_count": 12,
     "metadata": {},
     "output_type": "execute_result"
    }
   ],
   "source": [
    "X_test_scaled.shape"
   ]
  },
  {
   "cell_type": "markdown",
   "id": "1fbd2c67-4976-4f15-ae07-004c5d5aadcf",
   "metadata": {},
   "source": [
    "### LSTM"
   ]
  },
  {
   "cell_type": "markdown",
   "id": "fc096264-c414-4c66-867e-78a1537f47df",
   "metadata": {},
   "source": [
    "#### Reshape X train and X test"
   ]
  },
  {
   "cell_type": "code",
   "execution_count": 13,
   "id": "60dc3bf3-6ea8-4df3-bf4b-00e9a0056d13",
   "metadata": {},
   "outputs": [],
   "source": [
    "num_classes = len(np.unique(y_train_smote))\n",
    "X_train_reshaped = X_train_scaled_smote.reshape((X_train_scaled_smote.shape[0], X_train_scaled_smote.shape[1], 1))\n",
    "X_test_reshaped = X_test_scaled.reshape((X_test_scaled.shape[0], X_test_scaled.shape[1], 1))\n",
    "\n",
    "input_shape = (X_train_scaled_smote.shape[1], 1)"
   ]
  },
  {
   "cell_type": "code",
   "execution_count": 14,
   "id": "5e8bcb81-715c-40b4-9abd-2957b886b037",
   "metadata": {
    "tags": []
   },
   "outputs": [
    {
     "data": {
      "text/plain": [
       "(2924, 16, 1)"
      ]
     },
     "execution_count": 14,
     "metadata": {},
     "output_type": "execute_result"
    }
   ],
   "source": [
    "X_train_reshaped.shape"
   ]
  },
  {
   "cell_type": "code",
   "execution_count": 15,
   "id": "20376028-9e5a-496b-bcac-55c90462db1e",
   "metadata": {
    "tags": []
   },
   "outputs": [
    {
     "data": {
      "text/plain": [
       "(306, 16, 1)"
      ]
     },
     "execution_count": 15,
     "metadata": {},
     "output_type": "execute_result"
    }
   ],
   "source": [
    "X_test_reshaped.shape"
   ]
  },
  {
   "cell_type": "code",
   "execution_count": 17,
   "id": "3fe8471c-b231-4d91-9e50-6b7513ba8d90",
   "metadata": {
    "tags": []
   },
   "outputs": [
    {
     "name": "stdout",
     "output_type": "stream",
     "text": [
      "(16, 1)\n"
     ]
    }
   ],
   "source": [
    "print(input_shape)"
   ]
  },
  {
   "cell_type": "markdown",
   "id": "802b98b2-7aef-4d17-afe6-136dfba9eb96",
   "metadata": {},
   "source": [
    "#### Encode target variable"
   ]
  },
  {
   "cell_type": "code",
   "execution_count": 16,
   "id": "2b3fc791-e286-4df9-9443-a3b91e1aabf1",
   "metadata": {},
   "outputs": [],
   "source": [
    "from sklearn.preprocessing import LabelEncoder\n",
    "LE = LabelEncoder()\n",
    "y_train_encoded = LE.fit_transform(y_train_smote)\n",
    "y_test_encoded = LE.transform(y_test)\n",
    "\n",
    "from tensorflow.keras.utils import to_categorical\n",
    "y_train_categorical = to_categorical(y_train_encoded)\n",
    "y_test_categorical = to_categorical(y_test_encoded)"
   ]
  },
  {
   "cell_type": "markdown",
   "id": "c5da2477-898f-4ab8-a3f3-d970f42b079a",
   "metadata": {},
   "source": [
    "#### Build and train model"
   ]
  },
  {
   "cell_type": "code",
   "execution_count": 18,
   "id": "e72a553a-711a-42cb-8ae0-26eb2e7229b4",
   "metadata": {},
   "outputs": [
    {
     "name": "stderr",
     "output_type": "stream",
     "text": [
      "2024-07-14 23:30:01.954773: I tensorflow/core/platform/cpu_feature_guard.cc:193] This TensorFlow binary is optimized with oneAPI Deep Neural Network Library (oneDNN) to use the following CPU instructions in performance-critical operations:  SSE4.1 SSE4.2 AVX AVX2 FMA\n",
      "To enable them in other operations, rebuild TensorFlow with the appropriate compiler flags.\n"
     ]
    },
    {
     "name": "stdout",
     "output_type": "stream",
     "text": [
      "10/10 [==============================] - 1s 2ms/step - loss: 11.5882 - accuracy: 0.6340\n",
      "Test Accuracy: 0.6339869499206543\n",
      "Epoch 1/100\n",
      "92/92 [==============================] - 2s 7ms/step - loss: 5.2676 - accuracy: 0.2938 - val_loss: 11.6068 - val_accuracy: 0.6340 - lr: 0.0010\n",
      "Epoch 2/100\n",
      "92/92 [==============================] - 0s 5ms/step - loss: 3.0766 - accuracy: 0.2873 - val_loss: 10.7045 - val_accuracy: 0.6340 - lr: 0.0010\n",
      "Epoch 3/100\n",
      "92/92 [==============================] - 0s 5ms/step - loss: 2.3162 - accuracy: 0.2603 - val_loss: 4.2972 - val_accuracy: 0.6340 - lr: 0.0010\n",
      "Epoch 4/100\n",
      "92/92 [==============================] - 0s 5ms/step - loss: 2.0033 - accuracy: 0.2674 - val_loss: 1.8579 - val_accuracy: 0.6340 - lr: 0.0010\n",
      "Epoch 5/100\n",
      "92/92 [==============================] - 1s 6ms/step - loss: 1.6891 - accuracy: 0.2510 - val_loss: 1.6007 - val_accuracy: 0.1928 - lr: 0.0010\n",
      "Epoch 6/100\n",
      "92/92 [==============================] - 1s 7ms/step - loss: 1.6734 - accuracy: 0.2507 - val_loss: 1.5862 - val_accuracy: 0.2157 - lr: 0.0010\n",
      "Epoch 7/100\n",
      "92/92 [==============================] - 0s 5ms/step - loss: 1.6364 - accuracy: 0.2674 - val_loss: 1.4822 - val_accuracy: 0.1961 - lr: 0.0010\n",
      "Epoch 8/100\n",
      "92/92 [==============================] - 0s 5ms/step - loss: 1.6076 - accuracy: 0.2579 - val_loss: 1.5449 - val_accuracy: 0.1503 - lr: 0.0010\n",
      "Epoch 9/100\n",
      "92/92 [==============================] - 0s 5ms/step - loss: 1.5927 - accuracy: 0.2473 - val_loss: 1.4749 - val_accuracy: 0.1503 - lr: 0.0010\n",
      "Epoch 10/100\n",
      "92/92 [==============================] - 1s 6ms/step - loss: 1.6216 - accuracy: 0.2377 - val_loss: 1.5215 - val_accuracy: 0.1438 - lr: 0.0010\n",
      "Epoch 11/100\n",
      "92/92 [==============================] - 0s 5ms/step - loss: 1.5307 - accuracy: 0.2360 - val_loss: 1.3974 - val_accuracy: 0.1601 - lr: 0.0010\n",
      "Epoch 12/100\n",
      "92/92 [==============================] - 0s 5ms/step - loss: 1.5546 - accuracy: 0.2278 - val_loss: 1.4742 - val_accuracy: 0.1373 - lr: 0.0010\n",
      "Epoch 13/100\n",
      "92/92 [==============================] - 0s 5ms/step - loss: 1.6159 - accuracy: 0.2281 - val_loss: 1.5791 - val_accuracy: 0.0980 - lr: 0.0010\n",
      "Epoch 14/100\n",
      "92/92 [==============================] - 0s 5ms/step - loss: 1.5526 - accuracy: 0.2233 - val_loss: 1.4741 - val_accuracy: 0.1046 - lr: 0.0010\n",
      "Epoch 15/100\n",
      "92/92 [==============================] - 1s 6ms/step - loss: 1.5068 - accuracy: 0.2189 - val_loss: 1.3839 - val_accuracy: 0.1176 - lr: 0.0010\n",
      "Epoch 16/100\n",
      "92/92 [==============================] - 0s 5ms/step - loss: 1.5501 - accuracy: 0.2264 - val_loss: 1.3784 - val_accuracy: 0.1242 - lr: 0.0010\n",
      "Epoch 17/100\n",
      "92/92 [==============================] - 0s 5ms/step - loss: 1.5248 - accuracy: 0.2353 - val_loss: 1.3939 - val_accuracy: 0.1078 - lr: 0.0010\n",
      "Epoch 18/100\n",
      "92/92 [==============================] - 0s 5ms/step - loss: 1.4747 - accuracy: 0.2315 - val_loss: 1.5339 - val_accuracy: 0.1242 - lr: 0.0010\n",
      "Epoch 19/100\n",
      "92/92 [==============================] - 0s 5ms/step - loss: 1.5149 - accuracy: 0.2096 - val_loss: 1.3869 - val_accuracy: 0.1242 - lr: 0.0010\n",
      "Epoch 20/100\n",
      "92/92 [==============================] - 1s 7ms/step - loss: 1.4916 - accuracy: 0.2161 - val_loss: 1.3951 - val_accuracy: 0.1373 - lr: 0.0010\n",
      "Epoch 21/100\n",
      "84/92 [==========================>...] - ETA: 0s - loss: 1.4746 - accuracy: 0.2254\n",
      "Epoch 21: ReduceLROnPlateau reducing learning rate to 0.0005000000237487257.\n",
      "92/92 [==============================] - 1s 5ms/step - loss: 1.4678 - accuracy: 0.2223 - val_loss: 1.3993 - val_accuracy: 0.1667 - lr: 0.0010\n",
      "Epoch 22/100\n",
      "92/92 [==============================] - 0s 5ms/step - loss: 1.5026 - accuracy: 0.2196 - val_loss: 1.4372 - val_accuracy: 0.1699 - lr: 5.0000e-04\n",
      "Epoch 23/100\n",
      "92/92 [==============================] - 0s 5ms/step - loss: 1.4749 - accuracy: 0.2206 - val_loss: 1.4412 - val_accuracy: 0.1797 - lr: 5.0000e-04\n",
      "Epoch 24/100\n",
      "92/92 [==============================] - 0s 5ms/step - loss: 1.4522 - accuracy: 0.2322 - val_loss: 1.3905 - val_accuracy: 0.1634 - lr: 5.0000e-04\n",
      "Epoch 25/100\n",
      "92/92 [==============================] - 0s 5ms/step - loss: 1.4854 - accuracy: 0.2370 - val_loss: 1.3871 - val_accuracy: 0.1699 - lr: 5.0000e-04\n",
      "Epoch 26/100\n",
      "82/92 [=========================>....] - ETA: 0s - loss: 1.4805 - accuracy: 0.2351\n",
      "Epoch 26: ReduceLROnPlateau reducing learning rate to 0.0002500000118743628.\n",
      "Restoring model weights from the end of the best epoch: 16.\n",
      "92/92 [==============================] - 0s 5ms/step - loss: 1.4907 - accuracy: 0.2350 - val_loss: 1.3885 - val_accuracy: 0.1765 - lr: 5.0000e-04\n",
      "Epoch 26: early stopping\n"
     ]
    }
   ],
   "source": [
    "lstm_model = Sequential([\n",
    "    # First convolutional block\n",
    "    LSTM(16),\n",
    "    \n",
    "    # Dense layers\n",
    "    Dense(128, activation=\"sigmoid\"),\n",
    "    BatchNormalization(),\n",
    "    Dropout(0.5),\n",
    "    \n",
    "    Dense(64, activation=\"sigmoid\"),\n",
    "    BatchNormalization(),\n",
    "    Dropout(0.5),\n",
    "    \n",
    "    # Output layer\n",
    "    Dense(num_classes, activation='tanh')\n",
    "])\n",
    "\n",
    "# Compile the model\n",
    "lstm_model.compile(optimizer=Adam(learning_rate=0.001), loss='categorical_crossentropy', metrics=['accuracy'])\n",
    "\n",
    "loss, accuracy = lstm_model.evaluate(X_test_reshaped, y_test_categorical)\n",
    "print(f'Test Accuracy: {accuracy}')\n",
    "\n",
    "# Learning rate scheduler\n",
    "lr_scheduler = ReduceLROnPlateau(monitor='val_loss', factor=0.5, patience=5, min_lr=1e-6, verbose=1)\n",
    "\n",
    "# Early stopping\n",
    "early_stopping = EarlyStopping(monitor='val_loss', patience=10, restore_best_weights=True, verbose=1)\n",
    "\n",
    "# Train the model\n",
    "result = lstm_model.fit(X_train_reshaped, y_train_categorical, validation_data=(X_test_reshaped, y_test_categorical), epochs=100,  # Set a higher number, early stopping will prevent overfitting\n",
    "    batch_size=32, callbacks=[lr_scheduler, early_stopping])"
   ]
  },
  {
   "cell_type": "markdown",
   "id": "c35525e0-3c18-46e5-869e-489faed84331",
   "metadata": {},
   "source": [
    "#### Evaluate training"
   ]
  },
  {
   "cell_type": "code",
   "execution_count": 19,
   "id": "75e5002a-d607-4273-8752-98ecfe680b6c",
   "metadata": {},
   "outputs": [
    {
     "data": {
      "image/png": "[encoded data removed]",
      "text/plain": [
       "<Figure size 1000x800 with 2 Axes>"
      ]
     },
     "metadata": {},
     "output_type": "display_data"
    }
   ],
   "source": [
    "acc = result.history['accuracy']\n",
    "val_acc = result.history['val_accuracy']\n",
    "\n",
    "loss = result.history['loss']\n",
    "val_loss = result.history['val_loss']\n",
    "\n",
    "epochs_range = range(len(acc)) \n",
    "\n",
    "plt.figure(figsize=(10, 8))\n",
    "plt.subplot(1, 2, 1)\n",
    "plt.plot(epochs_range, acc, label='Training Accuracy')\n",
    "plt.plot(epochs_range, val_acc, label='Validation Accuracy')\n",
    "plt.legend(loc='lower right')\n",
    "plt.title('Training and Validation Accuracy')\n",
    "\n",
    "plt.subplot(1, 2, 2)\n",
    "plt.plot(epochs_range, loss, label='Training Loss')\n",
    "plt.plot(epochs_range, val_loss, label='Validation Loss')\n",
    "plt.legend(loc='upper right')\n",
    "plt.title('Training and Validation Loss')\n",
    "plt.show()"
   ]
  },
  {
   "cell_type": "markdown",
   "id": "e86ec61a-5b06-4420-ab42-112b026e6dcf",
   "metadata": {},
   "source": [
    "#### Make predictions"
   ]
  },
  {
   "cell_type": "code",
   "execution_count": 21,
   "id": "e95914bc-436f-45dd-b953-f480d15fd962",
   "metadata": {},
   "outputs": [
    {
     "name": "stdout",
     "output_type": "stream",
     "text": [
      "10/10 [==============================] - 0s 2ms/step\n"
     ]
    }
   ],
   "source": [
    "y_pred = lstm_model.predict(X_test_reshaped)"
   ]
  },
  {
   "cell_type": "code",
   "execution_count": 22,
   "id": "fa6eecd1-4d20-46ba-b36c-6a3fbf0b49b2",
   "metadata": {
    "tags": []
   },
   "outputs": [
    {
     "name": "stdout",
     "output_type": "stream",
     "text": [
      "              precision    recall  f1-score   support\n",
      "\n",
      "           0       0.33      0.12      0.18       194\n",
      "           1       0.50      0.08      0.13        39\n",
      "           2       0.08      0.12      0.10        26\n",
      "           3       0.04      0.17      0.07        47\n",
      "\n",
      "    accuracy                           0.12       306\n",
      "   macro avg       0.24      0.12      0.12       306\n",
      "weighted avg       0.29      0.12      0.15       306\n",
      "\n"
     ]
    }
   ],
   "source": [
    "# Convert y_pred from probabilities to class labels\n",
    "y_pred_classes = np.argmax(y_pred, axis=1)\n",
    "\n",
    "# Convert y_test_categorical back to class labels\n",
    "y_test_classes = np.argmax(y_test_categorical, axis=1)\n",
    "\n",
    "# Generate the classification report\n",
    "report = classification_report(y_test_classes, y_pred_classes, zero_division=1)\n",
    "\n",
    "# Print the report\n",
    "print(report)"
   ]
  },
  {
   "cell_type": "markdown",
   "id": "6845b606-e0a9-44bc-a6f0-a78451fde41b",
   "metadata": {},
   "source": [
    "### CNN"
   ]
  },
  {
   "cell_type": "markdown",
   "id": "c1e1a41b-d7ab-4ae2-bfe7-9b6421ea9b75",
   "metadata": {},
   "source": [
    "#### Reshape X train and X test"
   ]
  },
  {
   "cell_type": "code",
   "execution_count": null,
   "id": "5b41ba69-8944-4041-8ef0-70777214c685",
   "metadata": {},
   "outputs": [],
   "source": [
    "num_classes = len(np.unique(y_train_smote))\n",
    "X_train_reshaped = X_train_scaled_smote.reshape((X_train_scaled_smote.shape[0], X_train_scaled_smote.shape[1], 1))\n",
    "X_test_reshaped = X_test_scaled.reshape((X_test_scaled.shape[0], X_test_scaled.shape[1], 1))\n",
    "\n",
    "input_shape = (X_train_scaled_smote.shape[1], 1)"
   ]
  },
  {
   "cell_type": "markdown",
   "id": "dbe2d746-59e6-4755-84aa-1b29bf9a771a",
   "metadata": {},
   "source": [
    "#### Encode target variable (composer label)"
   ]
  },
  {
   "cell_type": "code",
   "execution_count": null,
   "id": "2c3f0689-f4f3-4b2a-9a49-b585b1f55703",
   "metadata": {},
   "outputs": [],
   "source": [
    "from sklearn.preprocessing import LabelEncoder\n",
    "LE = LabelEncoder()\n",
    "y_train_encoded = LE.fit_transform(y_train_smote)\n",
    "y_test_encoded = LE.transform(y_test)\n",
    "\n",
    "from tensorflow.keras.utils import to_categorical\n",
    "y_train_categorical = to_categorical(y_train_encoded)\n",
    "y_test_categorical = to_categorical(y_test_encoded)"
   ]
  },
  {
   "cell_type": "markdown",
   "id": "fd97b636-e46b-40d8-9eb0-18e8bb05b99f",
   "metadata": {},
   "source": [
    "#### Build model and train"
   ]
  },
  {
   "cell_type": "code",
   "execution_count": 18,
   "id": "92b6b3fc-f40d-4649-8c4e-cb9e5753e43f",
   "metadata": {},
   "outputs": [
    {
     "name": "stderr",
     "output_type": "stream",
     "text": [
      "2024-07-14 21:16:55.911972: I tensorflow/core/platform/cpu_feature_guard.cc:193] This TensorFlow binary is optimized with oneAPI Deep Neural Network Library (oneDNN) to use the following CPU instructions in performance-critical operations:  SSE4.1 SSE4.2 AVX AVX2 FMA\n",
      "To enable them in other operations, rebuild TensorFlow with the appropriate compiler flags.\n"
     ]
    },
    {
     "name": "stdout",
     "output_type": "stream",
     "text": [
      "10/10 [==============================] - 1s 3ms/step - loss: 1.3947 - accuracy: 0.1732\n",
      "Test Accuracy: 0.17320261895656586\n",
      "Epoch 1/100\n",
      "93/93 [==============================] - 3s 11ms/step - loss: 1.7357 - accuracy: 0.4128 - val_loss: 0.9313 - val_accuracy: 0.6601 - lr: 0.0010\n",
      "Epoch 2/100\n",
      "93/93 [==============================] - 1s 11ms/step - loss: 1.3477 - accuracy: 0.5176 - val_loss: 0.8664 - val_accuracy: 0.6340 - lr: 0.0010\n",
      "Epoch 3/100\n",
      "93/93 [==============================] - 1s 11ms/step - loss: 1.1555 - accuracy: 0.5645 - val_loss: 0.8018 - val_accuracy: 0.6699 - lr: 0.0010\n",
      "Epoch 4/100\n",
      "93/93 [==============================] - 1s 11ms/step - loss: 1.0168 - accuracy: 0.5970 - val_loss: 0.7717 - val_accuracy: 0.6830 - lr: 0.0010\n",
      "Epoch 5/100\n",
      "93/93 [==============================] - 1s 11ms/step - loss: 0.9587 - accuracy: 0.6274 - val_loss: 0.7676 - val_accuracy: 0.6961 - lr: 0.0010\n",
      "Epoch 6/100\n",
      "93/93 [==============================] - 1s 10ms/step - loss: 0.8645 - accuracy: 0.6449 - val_loss: 0.6982 - val_accuracy: 0.7288 - lr: 0.0010\n",
      "Epoch 7/100\n",
      "93/93 [==============================] - 1s 10ms/step - loss: 0.8401 - accuracy: 0.6642 - val_loss: 0.6749 - val_accuracy: 0.7288 - lr: 0.0010\n",
      "Epoch 8/100\n",
      "93/93 [==============================] - 1s 10ms/step - loss: 0.8023 - accuracy: 0.6848 - val_loss: 0.6715 - val_accuracy: 0.7288 - lr: 0.0010\n",
      "Epoch 9/100\n",
      "93/93 [==============================] - 1s 10ms/step - loss: 0.7632 - accuracy: 0.6997 - val_loss: 0.6958 - val_accuracy: 0.7190 - lr: 0.0010\n",
      "Epoch 10/100\n",
      "93/93 [==============================] - 1s 10ms/step - loss: 0.7583 - accuracy: 0.6993 - val_loss: 0.6727 - val_accuracy: 0.7026 - lr: 0.0010\n",
      "Epoch 11/100\n",
      "93/93 [==============================] - 1s 10ms/step - loss: 0.7327 - accuracy: 0.7145 - val_loss: 0.6360 - val_accuracy: 0.7255 - lr: 0.0010\n",
      "Epoch 12/100\n",
      "93/93 [==============================] - 1s 10ms/step - loss: 0.7318 - accuracy: 0.7155 - val_loss: 0.6387 - val_accuracy: 0.7320 - lr: 0.0010\n",
      "Epoch 13/100\n",
      "93/93 [==============================] - 1s 10ms/step - loss: 0.7174 - accuracy: 0.7236 - val_loss: 0.6154 - val_accuracy: 0.7484 - lr: 0.0010\n",
      "Epoch 14/100\n",
      "93/93 [==============================] - 1s 10ms/step - loss: 0.7079 - accuracy: 0.7152 - val_loss: 0.6577 - val_accuracy: 0.7353 - lr: 0.0010\n",
      "Epoch 15/100\n",
      "93/93 [==============================] - 1s 10ms/step - loss: 0.6696 - accuracy: 0.7355 - val_loss: 0.6250 - val_accuracy: 0.7255 - lr: 0.0010\n",
      "Epoch 16/100\n",
      "93/93 [==============================] - 1s 10ms/step - loss: 0.6822 - accuracy: 0.7338 - val_loss: 0.7264 - val_accuracy: 0.7190 - lr: 0.0010\n",
      "Epoch 17/100\n",
      "93/93 [==============================] - 1s 10ms/step - loss: 0.6638 - accuracy: 0.7402 - val_loss: 0.6680 - val_accuracy: 0.7255 - lr: 0.0010\n",
      "Epoch 18/100\n",
      "89/93 [===========================>..] - ETA: 0s - loss: 0.6618 - accuracy: 0.7384\n",
      "Epoch 18: ReduceLROnPlateau reducing learning rate to 0.0005000000237487257.\n",
      "93/93 [==============================] - 1s 10ms/step - loss: 0.6608 - accuracy: 0.7392 - val_loss: 0.7286 - val_accuracy: 0.7353 - lr: 0.0010\n",
      "Epoch 19/100\n",
      "93/93 [==============================] - 1s 11ms/step - loss: 0.6316 - accuracy: 0.7527 - val_loss: 0.5786 - val_accuracy: 0.7647 - lr: 5.0000e-04\n",
      "Epoch 20/100\n",
      "93/93 [==============================] - 1s 10ms/step - loss: 0.6393 - accuracy: 0.7618 - val_loss: 0.6153 - val_accuracy: 0.7647 - lr: 5.0000e-04\n",
      "Epoch 21/100\n",
      "93/93 [==============================] - 1s 10ms/step - loss: 0.5945 - accuracy: 0.7753 - val_loss: 0.5842 - val_accuracy: 0.7680 - lr: 5.0000e-04\n",
      "Epoch 22/100\n",
      "93/93 [==============================] - 1s 10ms/step - loss: 0.5886 - accuracy: 0.7608 - val_loss: 0.6244 - val_accuracy: 0.7778 - lr: 5.0000e-04\n",
      "Epoch 23/100\n",
      "93/93 [==============================] - 1s 10ms/step - loss: 0.6009 - accuracy: 0.7693 - val_loss: 0.5810 - val_accuracy: 0.7745 - lr: 5.0000e-04\n",
      "Epoch 24/100\n",
      "89/93 [===========================>..] - ETA: 0s - loss: 0.5877 - accuracy: 0.7683\n",
      "Epoch 24: ReduceLROnPlateau reducing learning rate to 0.0002500000118743628.\n",
      "93/93 [==============================] - 1s 10ms/step - loss: 0.5878 - accuracy: 0.7689 - val_loss: 0.6086 - val_accuracy: 0.7484 - lr: 5.0000e-04\n",
      "Epoch 25/100\n",
      "93/93 [==============================] - 1s 10ms/step - loss: 0.5783 - accuracy: 0.7753 - val_loss: 0.5859 - val_accuracy: 0.7582 - lr: 2.5000e-04\n",
      "Epoch 26/100\n",
      "93/93 [==============================] - 1s 11ms/step - loss: 0.5490 - accuracy: 0.7831 - val_loss: 0.5870 - val_accuracy: 0.7778 - lr: 2.5000e-04\n",
      "Epoch 27/100\n",
      "93/93 [==============================] - 1s 10ms/step - loss: 0.5244 - accuracy: 0.7990 - val_loss: 0.5716 - val_accuracy: 0.7614 - lr: 2.5000e-04\n",
      "Epoch 28/100\n",
      "93/93 [==============================] - 1s 10ms/step - loss: 0.5423 - accuracy: 0.7845 - val_loss: 0.6202 - val_accuracy: 0.7614 - lr: 2.5000e-04\n",
      "Epoch 29/100\n",
      "93/93 [==============================] - 1s 10ms/step - loss: 0.5369 - accuracy: 0.8017 - val_loss: 0.5833 - val_accuracy: 0.7647 - lr: 2.5000e-04\n",
      "Epoch 30/100\n",
      "93/93 [==============================] - 1s 10ms/step - loss: 0.5314 - accuracy: 0.8037 - val_loss: 0.5918 - val_accuracy: 0.7647 - lr: 2.5000e-04\n",
      "Epoch 31/100\n",
      "93/93 [==============================] - 1s 10ms/step - loss: 0.5471 - accuracy: 0.7909 - val_loss: 0.5918 - val_accuracy: 0.7680 - lr: 2.5000e-04\n",
      "Epoch 32/100\n",
      "89/93 [===========================>..] - ETA: 0s - loss: 0.5302 - accuracy: 0.7992\n",
      "Epoch 32: ReduceLROnPlateau reducing learning rate to 0.0001250000059371814.\n",
      "93/93 [==============================] - 1s 10ms/step - loss: 0.5348 - accuracy: 0.7983 - val_loss: 0.6216 - val_accuracy: 0.7680 - lr: 2.5000e-04\n",
      "Epoch 33/100\n",
      "93/93 [==============================] - 1s 10ms/step - loss: 0.5352 - accuracy: 0.7953 - val_loss: 0.5980 - val_accuracy: 0.7549 - lr: 1.2500e-04\n",
      "Epoch 34/100\n",
      "93/93 [==============================] - 1s 11ms/step - loss: 0.5199 - accuracy: 0.8084 - val_loss: 0.5885 - val_accuracy: 0.7712 - lr: 1.2500e-04\n",
      "Epoch 35/100\n",
      "93/93 [==============================] - 1s 10ms/step - loss: 0.5273 - accuracy: 0.8091 - val_loss: 0.5827 - val_accuracy: 0.7680 - lr: 1.2500e-04\n",
      "Epoch 36/100\n",
      "93/93 [==============================] - 1s 11ms/step - loss: 0.5240 - accuracy: 0.8074 - val_loss: 0.6069 - val_accuracy: 0.7647 - lr: 1.2500e-04\n",
      "Epoch 37/100\n",
      "88/93 [===========================>..] - ETA: 0s - loss: 0.5006 - accuracy: 0.8107\n",
      "Epoch 37: ReduceLROnPlateau reducing learning rate to 6.25000029685907e-05.\n",
      "Restoring model weights from the end of the best epoch: 27.\n",
      "93/93 [==============================] - 1s 11ms/step - loss: 0.5080 - accuracy: 0.8088 - val_loss: 0.5775 - val_accuracy: 0.7712 - lr: 1.2500e-04\n",
      "Epoch 37: early stopping\n"
     ]
    }
   ],
   "source": [
    "cnn_model = Sequential([\n",
    "    # Input normalization\n",
    "    BatchNormalization(input_shape=input_shape),\n",
    "    \n",
    "    # First convolutional block\n",
    "    Conv1D(64, kernel_size=3, padding='same'),\n",
    "    BatchNormalization(),\n",
    "    Conv1D(64, kernel_size=3, padding='same'),\n",
    "    BatchNormalization(),\n",
    "    MaxPooling1D(pool_size=2),\n",
    "    Dropout(0.2),\n",
    "    \n",
    "    # Second convolutional block\n",
    "    Conv1D(128, kernel_size=3, padding='same'),\n",
    "    BatchNormalization(),\n",
    "    Conv1D(128, kernel_size=3, padding='same'),\n",
    "    BatchNormalization(),\n",
    "    MaxPooling1D(pool_size=2),\n",
    "    Dropout(0.3),\n",
    "    \n",
    "    # Third convolutional block\n",
    "    Conv1D(256, kernel_size=3, padding='same'),\n",
    "    BatchNormalization(),\n",
    "    Conv1D(256, kernel_size=3, padding='same'),\n",
    "    BatchNormalization(),\n",
    "    GlobalAveragePooling1D(),\n",
    "    Dropout(0.4),\n",
    "    \n",
    "    # Dense layers\n",
    "    Dense(128, activation=\"relu\"),\n",
    "    BatchNormalization(),\n",
    "    Dropout(0.5),\n",
    "    \n",
    "    Dense(64, activation=\"relu\"),\n",
    "    BatchNormalization(),\n",
    "    Dropout(0.5),\n",
    "    \n",
    "    # Output layer\n",
    "    Dense(num_classes, activation='softmax')\n",
    "])\n",
    "\n",
    "# Compile the model\n",
    "cnn_model.compile(optimizer=Adam(learning_rate=0.001), loss='categorical_crossentropy', metrics=['accuracy'])\n",
    "\n",
    "loss, accuracy = cnn_model.evaluate(X_test_reshaped, y_test_categorical)\n",
    "print(f'Test Accuracy: {accuracy}')\n",
    "\n",
    "# Learning rate scheduler\n",
    "lr_scheduler = ReduceLROnPlateau(monitor='val_loss', factor=0.5, patience=5, min_lr=1e-6, verbose=1)\n",
    "\n",
    "# Early stopping\n",
    "early_stopping = EarlyStopping(monitor='val_loss', patience=10, restore_best_weights=True, verbose=1)\n",
    "\n",
    "# Train the model\n",
    "result = cnn_model.fit(X_train_reshaped, y_train_categorical, validation_data=(X_test_reshaped, y_test_categorical), epochs=100,  # Set a higher number, early stopping will prevent overfitting\n",
    "    batch_size=32, callbacks=[lr_scheduler, early_stopping])"
   ]
  },
  {
   "cell_type": "markdown",
   "id": "bc7f4500-9a2f-4e7b-9257-8181f4b1291e",
   "metadata": {},
   "source": [
    "#### Evaluate training"
   ]
  },
  {
   "cell_type": "code",
   "execution_count": 19,
   "id": "059758ef-2c4c-429a-b729-425d6b4dafb6",
   "metadata": {},
   "outputs": [
    {
     "data": {
      "image/png": "[encoded data removed]",
      "text/plain": [
       "<Figure size 1000x800 with 2 Axes>"
      ]
     },
     "metadata": {},
     "output_type": "display_data"
    }
   ],
   "source": [
    "acc = result.history['accuracy']\n",
    "val_acc = result.history['val_accuracy']\n",
    "\n",
    "loss = result.history['loss']\n",
    "val_loss = result.history['val_loss']\n",
    "\n",
    "epochs_range = range(len(acc)) \n",
    "\n",
    "plt.figure(figsize=(10, 8))\n",
    "plt.subplot(1, 2, 1)\n",
    "plt.plot(epochs_range, acc, label='Training Accuracy')\n",
    "plt.plot(epochs_range, val_acc, label='Validation Accuracy')\n",
    "plt.legend(loc='lower right')\n",
    "plt.title('Training and Validation Accuracy')\n",
    "\n",
    "plt.subplot(1, 2, 2)\n",
    "plt.plot(epochs_range, loss, label='Training Loss')\n",
    "plt.plot(epochs_range, val_loss, label='Validation Loss')\n",
    "plt.legend(loc='upper right')\n",
    "plt.title('Training and Validation Loss')\n",
    "plt.show()"
   ]
  },
  {
   "cell_type": "markdown",
   "id": "a566c5d2-f99d-4bf3-8218-938e8b685496",
   "metadata": {},
   "source": [
    "#### Make predictions"
   ]
  },
  {
   "cell_type": "code",
   "execution_count": 20,
   "id": "babff979-93e8-427c-9a44-c78fdceac9dc",
   "metadata": {},
   "outputs": [
    {
     "name": "stdout",
     "output_type": "stream",
     "text": [
      "10/10 [==============================] - 0s 3ms/step\n"
     ]
    }
   ],
   "source": [
    "y_pred = cnn_model.predict(X_test_reshaped)"
   ]
  },
  {
   "cell_type": "code",
   "execution_count": 21,
   "id": "c4a9beed-6435-4ed1-9676-6f1ae0efc5cc",
   "metadata": {},
   "outputs": [
    {
     "name": "stdout",
     "output_type": "stream",
     "text": [
      "              precision    recall  f1-score   support\n",
      "\n",
      "           0       0.94      0.83      0.88       185\n",
      "           1       0.50      0.49      0.49        39\n",
      "           2       0.57      0.86      0.68        29\n",
      "           3       0.58      0.68      0.63        53\n",
      "\n",
      "    accuracy                           0.76       306\n",
      "   macro avg       0.65      0.71      0.67       306\n",
      "weighted avg       0.79      0.76      0.77       306\n",
      "\n"
     ]
    }
   ],
   "source": [
    "# Convert y_pred from probabilities to class labels\n",
    "y_pred_classes = np.argmax(y_pred, axis=1)\n",
    "\n",
    "# Convert y_test_categorical back to class labels\n",
    "y_test_classes = np.argmax(y_test_categorical, axis=1)\n",
    "\n",
    "# Generate the classification report\n",
    "report = classification_report(y_test_classes, y_pred_classes, zero_division=1)\n",
    "\n",
    "# Print the report\n",
    "print(report)"
   ]
  }
 ],
 "metadata": {
  "kernelspec": {
   "display_name": "Python 3 (ipykernel)",
   "language": "python",
   "name": "python3"
  },
  "language_info": {
   "codemirror_mode": {
    "name": "ipython",
    "version": 3
   },
   "file_extension": ".py",
   "mimetype": "text/x-python",
   "name": "python",
   "nbconvert_exporter": "python",
   "pygments_lexer": "ipython3",
   "version": "3.10.12"
  }
 },
 "nbformat": 4,
 "nbformat_minor": 5
}
