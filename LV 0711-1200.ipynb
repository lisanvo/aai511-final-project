{
 "cells": [
  {
   "cell_type": "code",
   "execution_count": 1,
   "id": "c1322c17-f836-44f9-be0c-3ba280896d5a",
   "metadata": {},
   "outputs": [],
   "source": [
    "#%pip install -U pretty_midi"
   ]
  },
  {
   "cell_type": "code",
   "execution_count": 1,
   "id": "a01be2f4-9dd8-4fbd-b21a-70469ba3ccdc",
   "metadata": {},
   "outputs": [],
   "source": [
    "#%pip install -U pretty_midi\n",
    "import pretty_midi\n",
    "import os\n",
    "import csv\n",
    "import numpy as np\n",
    "import pandas as pd\n",
    "from sklearn.model_selection import train_test_split\n",
    "from sklearn.svm import SVC\n",
    "from sklearn.metrics import confusion_matrix,accuracy_score, f1_score,classification_report, ConfusionMatrixDisplay\n",
    "from sklearn.preprocessing import StandardScaler\n",
    "#%pip install matplotlib\n",
    "#%pip install seaborn\n",
    "import matplotlib.pyplot as plt\n",
    "import seaborn as sns\n",
    "from matplotlib import cm\n",
    "\n",
    "from keras.models import Sequential\n",
    "from keras.layers import LSTM, Dense, Masking, Conv1D, Conv2D, MaxPooling1D, Flatten\n",
    "from keras.utils import to_categorical"
   ]
  },
  {
   "cell_type": "code",
   "execution_count": 2,
   "id": "ba4747c3-a482-4143-b566-8c29db6912c2",
   "metadata": {},
   "outputs": [],
   "source": [
    "data_dir = \"Four_composers\""
   ]
  },
  {
   "cell_type": "markdown",
   "id": "0f257e38-b696-4b1b-abef-b556a2aea436",
   "metadata": {},
   "source": [
    "### Extract the relevant features from each MIDI file. Store the features in a list X, and the associated composer in a list y. "
   ]
  },
  {
   "cell_type": "code",
   "execution_count": 3,
   "id": "0782e170-775d-40de-b8c9-a1e11af1cd99",
   "metadata": {},
   "outputs": [
    {
     "name": "stdout",
     "output_type": "stream",
     "text": [
      "No errors found in dataset.\n"
     ]
    }
   ],
   "source": [
    "import warnings\n",
    "\n",
    "def extract_features(midi_file):\n",
    "    try:\n",
    "        with warnings.catch_warnings():\n",
    "            warnings.filterwarnings(\"ignore\", category=RuntimeWarning, message=\"Tempo, Key or Time signature change events found on non-zero tracks\")\n",
    "            midi_data = pretty_midi.PrettyMIDI(midi_file)\n",
    "    except IOError as e:\n",
    "        print(f\"Error reading file {midi_file}: {str(e)}\")\n",
    "        return None\n",
    "    except Exception as e:\n",
    "        print(f\"Error parsing MIDI file {midi_file}: {str(e)}\")\n",
    "        return None\n",
    "\n",
    "    try:\n",
    "        tempo_changes = midi_data.get_tempo_changes()\n",
    "        tempo = tempo_changes[1][0] if len(tempo_changes) > 1 and len(tempo_changes[1]) > 0 else 120\n",
    "    except IndexError:\n",
    "        tempo = 120\n",
    "\n",
    "    num_instruments = len(midi_data.instruments)\n",
    "    \n",
    "    total_velocity = 0\n",
    "    total_notes = 0\n",
    "    for instrument in midi_data.instruments:\n",
    "        total_velocity += sum(note.velocity for note in instrument.notes)\n",
    "        total_notes += len(instrument.notes)\n",
    "    \n",
    "    avg_velocity = total_velocity / total_notes if total_notes > 0 else 0\n",
    "    \n",
    "    pitch_classes = [0] * 12\n",
    "    for instrument in midi_data.instruments:\n",
    "        for note in instrument.notes:\n",
    "            pitch_classes[note.pitch % 12] += 1\n",
    "    \n",
    "    # Ignore key signature errors\n",
    "    try:\n",
    "        key = midi_data.key_signature_changes[0].key_number if midi_data.key_signature_changes else 0\n",
    "    except (ValueError, IndexError):\n",
    "        key = 0\n",
    "\n",
    "    return [tempo, num_instruments, avg_velocity, key] + pitch_classes\n",
    "\n",
    "X = []\n",
    "y = []\n",
    "error_count = 0\n",
    "for composer in os.listdir(data_dir):\n",
    "    composer_dir = os.path.join(data_dir, composer)\n",
    "    if os.path.isdir(composer_dir):\n",
    "        for root, dirs, files in os.walk(composer_dir):\n",
    "            for midi_file in files:\n",
    "                if midi_file.endswith('.mid'):\n",
    "                    file_path = os.path.join(root, midi_file)\n",
    "                    features = extract_features(file_path)\n",
    "                    if features is not None:\n",
    "                        X.append(features)\n",
    "                        y.append(composer)\n",
    "                    else:\n",
    "                        error_count += 1\n",
    "                        print(f\"Skipping file {file_path} due to errors\")\n",
    "\n",
    "if error_count == 0:\n",
    "    print(\"No errors found in dataset.\")"
   ]
  },
  {
   "cell_type": "code",
   "execution_count": 4,
   "id": "31e528f6-624b-4f47-b9d7-1740151b8f4f",
   "metadata": {
    "tags": []
   },
   "outputs": [],
   "source": [
    "X_np = np.array(X)\n",
    "y_np = np.array(y)"
   ]
  },
  {
   "cell_type": "code",
   "execution_count": 5,
   "id": "93e4ca14-c172-43fd-ac9c-851f1e4e3a17",
   "metadata": {
    "tags": []
   },
   "outputs": [
    {
     "data": {
      "text/plain": [
       "1527"
      ]
     },
     "execution_count": 5,
     "metadata": {},
     "output_type": "execute_result"
    }
   ],
   "source": [
    "len(y)"
   ]
  },
  {
   "cell_type": "code",
   "execution_count": 6,
   "id": "73316b4f-1c58-4218-b834-0a8f2036d2ea",
   "metadata": {
    "tags": []
   },
   "outputs": [
    {
     "data": {
      "text/plain": [
       "(1527, 16)"
      ]
     },
     "execution_count": 6,
     "metadata": {},
     "output_type": "execute_result"
    }
   ],
   "source": [
    "X_np.shape"
   ]
  },
  {
   "cell_type": "code",
   "execution_count": 7,
   "id": "28d9fdd5-5cf5-40ad-b6a5-2aaea5ec2a3f",
   "metadata": {},
   "outputs": [
    {
     "data": {
      "text/plain": [
       "array([[1.16000085e+02, 8.00000000e+00, 7.72308461e+01, ...,\n",
       "        1.44000000e+02, 1.41300000e+03, 3.80000000e+01],\n",
       "       [6.49999946e+01, 1.30000000e+01, 5.25016968e+01, ...,\n",
       "        3.93000000e+02, 3.44000000e+02, 1.27000000e+02],\n",
       "       [2.34000234e+02, 8.00000000e+00, 1.05596102e+02, ...,\n",
       "        2.28100000e+03, 5.90000000e+01, 6.39000000e+02],\n",
       "       ...,\n",
       "       [7.60000659e+01, 8.00000000e+00, 1.00000000e+02, ...,\n",
       "        2.02000000e+02, 1.44000000e+02, 4.24000000e+02],\n",
       "       [9.00000900e+01, 1.00000000e+01, 7.96183372e+01, ...,\n",
       "        7.22000000e+02, 9.92000000e+02, 5.40000000e+01],\n",
       "       [7.60000659e+01, 9.00000000e+00, 8.30230348e+01, ...,\n",
       "        5.65000000e+02, 1.00000000e+00, 4.39000000e+02]])"
      ]
     },
     "execution_count": 7,
     "metadata": {},
     "output_type": "execute_result"
    }
   ],
   "source": [
    "X_np"
   ]
  },
  {
   "cell_type": "markdown",
   "id": "16d8074f-4492-4fd6-b500-9481d67d25d5",
   "metadata": {},
   "source": [
    "### Convert X into an array. Perform train-test split."
   ]
  },
  {
   "cell_type": "code",
   "execution_count": 8,
   "id": "ecdebdfa-f16d-42b9-9236-bde468333bed",
   "metadata": {},
   "outputs": [],
   "source": [
    "X = np.array(X)\n",
    "X_train, X_test, y_train, y_test = train_test_split(X_np, y_np, test_size=0.2)"
   ]
  },
  {
   "cell_type": "markdown",
   "id": "fb716111-782a-4922-a1e1-cc34cca95bbe",
   "metadata": {},
   "source": [
    "### Standard Scaling on X_train and X_test."
   ]
  },
  {
   "cell_type": "code",
   "execution_count": 9,
   "id": "f6b7c1b6-f3d3-4bcb-9332-2371ffbdb778",
   "metadata": {},
   "outputs": [],
   "source": [
    "# Scale the features\n",
    "scaler = StandardScaler()\n",
    "X_train_scaled = scaler.fit_transform(X_train)\n",
    "X_test_scaled = scaler.transform(X_test)"
   ]
  },
  {
   "cell_type": "markdown",
   "id": "9996f23b-6651-4cc1-91e6-99f02205f857",
   "metadata": {},
   "source": [
    "### SMOTE resampling on the training sets"
   ]
  },
  {
   "cell_type": "code",
   "execution_count": 10,
   "id": "cea17fe0-212a-4040-a523-ca0c7d791864",
   "metadata": {},
   "outputs": [],
   "source": [
    "#%pip install -U -q imbalanced-learn\n",
    "from imblearn.over_sampling import SMOTE\n",
    "\n",
    "smote = SMOTE(random_state=42)\n",
    "X_train_scaled_smote, y_train_smote = smote.fit_resample(X_train_scaled, y_train)"
   ]
  },
  {
   "cell_type": "markdown",
   "id": "0e552965-c165-4723-9ab7-fca1f3dd763e",
   "metadata": {},
   "source": [
    "### Visualize the data imbalance, and correction after SMOTE."
   ]
  },
  {
   "cell_type": "code",
   "execution_count": 11,
   "id": "89b6f282-95aa-415f-9200-b7a64c624f84",
   "metadata": {},
   "outputs": [
    {
     "data": {
      "image/png": "[encoded data removed]",
      "text/plain": [
       "<Figure size 600x300 with 2 Axes>"
      ]
     },
     "metadata": {},
     "output_type": "display_data"
    }
   ],
   "source": [
    "# Convert y_train and y_train_smote to pandas Series\n",
    "y_train_series = pd.Series(y_train)\n",
    "y_train_smote_series = pd.Series(y_train_smote)\n",
    "\n",
    "f = plt.figure(figsize=(6, 3))\n",
    "plt.subplots_adjust(wspace=0.3, hspace=0.5)\n",
    "\n",
    "# Plot before SMOTE\n",
    "ax1 = f.add_subplot(1, 2, 1)\n",
    "y_train_series.value_counts().plot(kind='bar', ax=ax1)\n",
    "ax1.set_title(\"Before SMOTE\")\n",
    "ax1.set_ylabel(\"Count\")\n",
    "\n",
    "# Plot after SMOTE\n",
    "ax2 = f.add_subplot(1, 2, 2)\n",
    "y_train_smote_series.value_counts().plot(kind='bar', ax=ax2)\n",
    "ax2.set_title(\"After SMOTE\")\n",
    "ax2.set_ylabel(\"Count\")\n",
    "\n",
    "plt.tight_layout()\n",
    "plt.show()"
   ]
  },
  {
   "cell_type": "markdown",
   "id": "fe96445b-a16c-44f7-b70f-8fba6cc8c5ee",
   "metadata": {},
   "source": [
    "### SVM"
   ]
  },
  {
   "cell_type": "code",
   "execution_count": null,
   "id": "0003acf8-c00b-4e96-b100-a096e16ad4df",
   "metadata": {},
   "outputs": [],
   "source": [
    "# Train a Support Vector Machine classifier\n",
    "svm_clf = SVC(kernel='rbf', gamma=0.4, degree=5, C=18.0, decision_function_shape='ovr')\n",
    "svm_clf.fit(X_train_scaled_smote, y_train_smote)"
   ]
  },
  {
   "cell_type": "markdown",
   "id": "3962e373-1795-46b4-859b-e84cf65e91a9",
   "metadata": {},
   "source": [
    "### LSTM"
   ]
  },
  {
   "cell_type": "code",
   "execution_count": 12,
   "id": "4740d75b-f477-44c8-9c6d-781538e58aca",
   "metadata": {
    "tags": []
   },
   "outputs": [
    {
     "data": {
      "text/plain": [
       "(1221,)"
      ]
     },
     "execution_count": 12,
     "metadata": {},
     "output_type": "execute_result"
    }
   ],
   "source": [
    "y_train.shape"
   ]
  },
  {
   "cell_type": "code",
   "execution_count": 13,
   "id": "6e3b62b9-9e67-408f-9836-c7b1dcad3d28",
   "metadata": {
    "tags": []
   },
   "outputs": [
    {
     "data": {
      "text/plain": [
       "(1221, 16)"
      ]
     },
     "execution_count": 13,
     "metadata": {},
     "output_type": "execute_result"
    }
   ],
   "source": [
    "X_train.shape"
   ]
  },
  {
   "cell_type": "code",
   "execution_count": 14,
   "id": "dceffd81-b465-4451-a194-822b6832f203",
   "metadata": {
    "tags": []
   },
   "outputs": [],
   "source": [
    "X_train = np.reshape(X_train, (-1,X_train.shape[0], X_train.shape[1], 1))\n",
    "X_test = np.reshape(X_test, (-1,X_test.shape[0], X_test.shape[1], 1))"
   ]
  },
  {
   "cell_type": "code",
   "execution_count": null,
   "id": "9420373b-0c47-4d0c-a650-aca6c5e67072",
   "metadata": {
    "tags": []
   },
   "outputs": [],
   "source": [
    "# Build the model\n",
    "model = Sequential()\n",
    "model.add(LSTM(50, batch_input_shape=(X_train.shape[0],X_train.shape[1],1)))\n",
    "model.add(Dense(25, activation='relu'))\n",
    "model.add(Dense(4, activation='softmax'))\n",
    "\n",
    "# Compile the model\n",
    "model.compile(loss='categorical_crossentropy', optimizer='adam', metrics=['accuracy'])\n",
    "\n",
    "# Fit the model\n",
    "model.fit(X_train_scaled_smote, y_train_scaled, epochs=20, batch_size=32)\n",
    "\n",
    "# Evaluate the model\n",
    "loss, accuracy = model.evaluate(X_test, y_test)\n",
    "print(f'Test Accuracy: {accuracy}')"
   ]
  },
  {
   "cell_type": "markdown",
   "id": "6845b606-e0a9-44bc-a6f0-a78451fde41b",
   "metadata": {},
   "source": [
    "### CNN"
   ]
  },
  {
   "cell_type": "code",
   "execution_count": 17,
   "id": "511960fc-051d-48bb-ad39-56de447cf234",
   "metadata": {},
   "outputs": [],
   "source": [
    "from sklearn.preprocessing import LabelEncoder\n",
    "LE = LabelEncoder()\n",
    "y_train_encoded = LE.fit_transform(y_train_smote)\n",
    "y_test_encoded = LE.transform(y_test)\n",
    "\n",
    "from tensorflow.keras.utils import to_categorical\n",
    "y_train_categorical = to_categorical(y_train_encoded)\n",
    "y_test_categorical = to_categorical(y_test_encoded)"
   ]
  },
  {
   "cell_type": "code",
   "execution_count": 21,
   "id": "f597dce5-5fc5-4f3b-8130-06a2075658cd",
   "metadata": {
    "tags": []
   },
   "outputs": [
    {
     "name": "stdout",
     "output_type": "stream",
     "text": [
      "Epoch 1/20\n",
      "\u001b[1m189/189\u001b[0m \u001b[32m━━━━━━━━━━━━━━━━━━━━\u001b[0m\u001b[37m\u001b[0m \u001b[1m1s\u001b[0m 1ms/step - accuracy: 0.5424 - loss: 1.1257\n",
      "Epoch 2/20\n",
      "\u001b[1m189/189\u001b[0m \u001b[32m━━━━━━━━━━━━━━━━━━━━\u001b[0m\u001b[37m\u001b[0m \u001b[1m0s\u001b[0m 848us/step - accuracy: 0.6807 - loss: 0.7799\n",
      "Epoch 3/20\n",
      "\u001b[1m189/189\u001b[0m \u001b[32m━━━━━━━━━━━━━━━━━━━━\u001b[0m\u001b[37m\u001b[0m \u001b[1m0s\u001b[0m 912us/step - accuracy: 0.7386 - loss: 0.6418\n",
      "Epoch 4/20\n",
      "\u001b[1m189/189\u001b[0m \u001b[32m━━━━━━━━━━━━━━━━━━━━\u001b[0m\u001b[37m\u001b[0m \u001b[1m0s\u001b[0m 898us/step - accuracy: 0.7944 - loss: 0.5408\n",
      "Epoch 5/20\n",
      "\u001b[1m189/189\u001b[0m \u001b[32m━━━━━━━━━━━━━━━━━━━━\u001b[0m\u001b[37m\u001b[0m \u001b[1m0s\u001b[0m 886us/step - accuracy: 0.8086 - loss: 0.5074\n",
      "Epoch 6/20\n",
      "\u001b[1m189/189\u001b[0m \u001b[32m━━━━━━━━━━━━━━━━━━━━\u001b[0m\u001b[37m\u001b[0m \u001b[1m0s\u001b[0m 946us/step - accuracy: 0.8346 - loss: 0.4436\n",
      "Epoch 7/20\n",
      "\u001b[1m189/189\u001b[0m \u001b[32m━━━━━━━━━━━━━━━━━━━━\u001b[0m\u001b[37m\u001b[0m \u001b[1m0s\u001b[0m 994us/step - accuracy: 0.8346 - loss: 0.4280\n",
      "Epoch 8/20\n",
      "\u001b[1m189/189\u001b[0m \u001b[32m━━━━━━━━━━━━━━━━━━━━\u001b[0m\u001b[37m\u001b[0m \u001b[1m0s\u001b[0m 989us/step - accuracy: 0.8742 - loss: 0.3607\n",
      "Epoch 9/20\n",
      "\u001b[1m189/189\u001b[0m \u001b[32m━━━━━━━━━━━━━━━━━━━━\u001b[0m\u001b[37m\u001b[0m \u001b[1m0s\u001b[0m 962us/step - accuracy: 0.8784 - loss: 0.3258\n",
      "Epoch 10/20\n",
      "\u001b[1m189/189\u001b[0m \u001b[32m━━━━━━━━━━━━━━━━━━━━\u001b[0m\u001b[37m\u001b[0m \u001b[1m0s\u001b[0m 988us/step - accuracy: 0.8748 - loss: 0.3161\n",
      "Epoch 11/20\n",
      "\u001b[1m189/189\u001b[0m \u001b[32m━━━━━━━━━━━━━━━━━━━━\u001b[0m\u001b[37m\u001b[0m \u001b[1m0s\u001b[0m 942us/step - accuracy: 0.8908 - loss: 0.3002\n",
      "Epoch 12/20\n",
      "\u001b[1m189/189\u001b[0m \u001b[32m━━━━━━━━━━━━━━━━━━━━\u001b[0m\u001b[37m\u001b[0m \u001b[1m0s\u001b[0m 1ms/step - accuracy: 0.9098 - loss: 0.2804\n",
      "Epoch 13/20\n",
      "\u001b[1m189/189\u001b[0m \u001b[32m━━━━━━━━━━━━━━━━━━━━\u001b[0m\u001b[37m\u001b[0m \u001b[1m0s\u001b[0m 922us/step - accuracy: 0.8972 - loss: 0.2900\n",
      "Epoch 14/20\n",
      "\u001b[1m189/189\u001b[0m \u001b[32m━━━━━━━━━━━━━━━━━━━━\u001b[0m\u001b[37m\u001b[0m \u001b[1m0s\u001b[0m 1ms/step - accuracy: 0.9230 - loss: 0.2235\n",
      "Epoch 15/20\n",
      "\u001b[1m189/189\u001b[0m \u001b[32m━━━━━━━━━━━━━━━━━━━━\u001b[0m\u001b[37m\u001b[0m \u001b[1m0s\u001b[0m 980us/step - accuracy: 0.9254 - loss: 0.2166\n",
      "Epoch 16/20\n",
      "\u001b[1m189/189\u001b[0m \u001b[32m━━━━━━━━━━━━━━━━━━━━\u001b[0m\u001b[37m\u001b[0m \u001b[1m0s\u001b[0m 995us/step - accuracy: 0.9345 - loss: 0.2017\n",
      "Epoch 17/20\n",
      "\u001b[1m189/189\u001b[0m \u001b[32m━━━━━━━━━━━━━━━━━━━━\u001b[0m\u001b[37m\u001b[0m \u001b[1m0s\u001b[0m 993us/step - accuracy: 0.9256 - loss: 0.2149\n",
      "Epoch 18/20\n",
      "\u001b[1m189/189\u001b[0m \u001b[32m━━━━━━━━━━━━━━━━━━━━\u001b[0m\u001b[37m\u001b[0m \u001b[1m0s\u001b[0m 977us/step - accuracy: 0.9468 - loss: 0.1668\n",
      "Epoch 19/20\n",
      "\u001b[1m189/189\u001b[0m \u001b[32m━━━━━━━━━━━━━━━━━━━━\u001b[0m\u001b[37m\u001b[0m \u001b[1m0s\u001b[0m 981us/step - accuracy: 0.9221 - loss: 0.1962\n",
      "Epoch 20/20\n",
      "\u001b[1m189/189\u001b[0m \u001b[32m━━━━━━━━━━━━━━━━━━━━\u001b[0m\u001b[37m\u001b[0m \u001b[1m0s\u001b[0m 982us/step - accuracy: 0.9346 - loss: 0.1741\n",
      "\u001b[1m10/10\u001b[0m \u001b[32m━━━━━━━━━━━━━━━━━━━━\u001b[0m\u001b[37m\u001b[0m \u001b[1m0s\u001b[0m 702us/step - accuracy: 0.7555 - loss: 1.0949\n",
      "Test Accuracy: 0.7843137383460999\n"
     ]
    }
   ],
   "source": [
    "from keras import Sequential \n",
    "from keras.layers import Conv1D, MaxPooling1D, Flatten, Dense\n",
    "\n",
    "num_classes = len(np.unique(y_train_smote))\n",
    "X_train_reshaped = X_train_scaled_smote.reshape((X_train_scaled_smote.shape[0], X_train_scaled_smote.shape[1], 1))\n",
    "X_test_reshaped = X_test_scaled.reshape((X_test_scaled.shape[0], X_test_scaled.shape[1], 1))\n",
    "\n",
    "input_shape = (X_train_scaled_smote.shape[1], 1)\n",
    "\n",
    "# Build the model\n",
    "model = Sequential()\n",
    "model.add(Conv1D(64, kernel_size=3, activation='relu', input_shape=input_shape))\n",
    "model.add(MaxPooling1D(pool_size=2))\n",
    "model.add(Conv1D(128, kernel_size=3, activation='relu'))\n",
    "model.add(MaxPooling1D(pool_size=2))\n",
    "model.add(Flatten())\n",
    "model.add(Dense(50, activation='relu'))\n",
    "model.add(Dense(num_classes, activation='softmax'))\n",
    "\n",
    "model.compile(loss='categorical_crossentropy', optimizer='adam', metrics=['accuracy'])\n",
    "\n",
    "model.fit(X_train_scaled_smote, y_train_categorical, epochs=20, batch_size=16)\n",
    "\n",
    "loss, accuracy = model.evaluate(X_test_reshaped, y_test_categorical)\n",
    "print(f'Test Accuracy: {accuracy}')"
   ]
  },
  {
   "cell_type": "code",
   "execution_count": 22,
   "id": "babff979-93e8-427c-9a44-c78fdceac9dc",
   "metadata": {},
   "outputs": [
    {
     "name": "stdout",
     "output_type": "stream",
     "text": [
      "\u001b[1m10/10\u001b[0m \u001b[32m━━━━━━━━━━━━━━━━━━━━\u001b[0m\u001b[37m\u001b[0m \u001b[1m0s\u001b[0m 3ms/step \n"
     ]
    }
   ],
   "source": [
    "y_pred = model.predict(X_test_reshaped)"
   ]
  },
  {
   "cell_type": "code",
   "execution_count": 24,
   "id": "c4a9beed-6435-4ed1-9676-6f1ae0efc5cc",
   "metadata": {},
   "outputs": [
    {
     "name": "stdout",
     "output_type": "stream",
     "text": [
      "              precision    recall  f1-score   support\n",
      "\n",
      "           0       0.92      0.91      0.91       169\n",
      "           1       0.59      0.80      0.68        51\n",
      "           2       0.82      0.59      0.69        39\n",
      "           3       0.53      0.49      0.51        47\n",
      "\n",
      "    accuracy                           0.78       306\n",
      "   macro avg       0.72      0.70      0.70       306\n",
      "weighted avg       0.79      0.78      0.78       306\n",
      "\n"
     ]
    }
   ],
   "source": [
    "# Convert y_pred from probabilities to class labels\n",
    "y_pred_classes = np.argmax(y_pred, axis=1)\n",
    "\n",
    "# Convert y_test_categorical back to class labels\n",
    "y_test_classes = np.argmax(y_test_categorical, axis=1)\n",
    "\n",
    "# Generate the classification report\n",
    "report = classification_report(y_test_classes, y_pred_classes, zero_division=1)\n",
    "\n",
    "# Print the report\n",
    "print(report)"
   ]
  },
  {
   "cell_type": "markdown",
   "id": "fefa3dd4-d73e-4580-9696-c5a8526e7626",
   "metadata": {},
   "source": [
    "### Train model using radial basis vector kernel."
   ]
  },
  {
   "cell_type": "code",
   "execution_count": 10,
   "id": "2b568796-bc08-4bf4-b545-f56345390006",
   "metadata": {},
   "outputs": [
    {
     "name": "stdout",
     "output_type": "stream",
     "text": [
      "Accuracy (RBF Kernel):  77.78\n",
      "F1 (RBF Kernel):  78.17\n"
     ]
    }
   ],
   "source": [
    "y_pred = svm_clf.predict(X_test_scaled)\n",
    "rbf_accuracy = accuracy_score(y_test, y_pred)\n",
    "rbf_f1 = f1_score(y_test, y_pred, average='weighted')\n",
    "print('Accuracy (RBF Kernel): ', \"%.2f\" % (rbf_accuracy*100))\n",
    "print('F1 (RBF Kernel): ', \"%.2f\" % (rbf_f1*100))"
   ]
  },
  {
   "cell_type": "code",
   "execution_count": 11,
   "id": "e699a9db-383e-437c-8a68-c49bcd07d92c",
   "metadata": {},
   "outputs": [
    {
     "name": "stdout",
     "output_type": "stream",
     "text": [
      "Classification Report:\n",
      "              precision    recall  f1-score   support\n",
      "\n",
      "        Bach       0.92      0.90      0.91       189\n",
      "   Beethoven       0.43      0.62      0.51        37\n",
      "      Chopin       0.64      0.64      0.64        22\n",
      "      Mozart       0.68      0.52      0.59        58\n",
      "\n",
      "    accuracy                           0.78       306\n",
      "   macro avg       0.67      0.67      0.66       306\n",
      "weighted avg       0.79      0.78      0.78       306\n",
      "\n"
     ]
    }
   ],
   "source": [
    "# Generate and print the classification report\n",
    "report = classification_report(y_test, y_pred, zero_division=1)\n",
    "print(\"Classification Report:\")\n",
    "print(report)"
   ]
  },
  {
   "cell_type": "markdown",
   "id": "c8c23abb-761a-4ef3-a203-883998e3a8d4",
   "metadata": {},
   "source": [
    "### Print confusion matrix."
   ]
  },
  {
   "cell_type": "code",
   "execution_count": 12,
   "id": "24fb791f-ab21-4a8e-be5e-6e2fe65d7101",
   "metadata": {},
   "outputs": [
    {
     "data": {
      "image/png": "[encoded data removed]",
      "text/plain": [
       "<Figure size 700x600 with 2 Axes>"
      ]
     },
     "metadata": {},
     "output_type": "display_data"
    }
   ],
   "source": [
    "labels = sorted(set(y_test) | set(y_pred))\n",
    "\n",
    "cmatrix = confusion_matrix(y_test, y_pred, labels=labels)\n",
    "fontsize = 7\n",
    "figsize = (7, 6)  # Increased figure size for better readability\n",
    "cmap = plt.colormaps.get_cmap(\"Blues\")\n",
    "fig, ax = plt.subplots(figsize=figsize)\n",
    "\n",
    "sns.heatmap(cmatrix, \n",
    "            annot=True, \n",
    "            cmap=cmap, \n",
    "            cbar=True, \n",
    "            ax=ax, \n",
    "            linewidths=0.5,\n",
    "            fmt='d',\n",
    "            annot_kws={'fontsize': 14},\n",
    "            xticklabels=labels,\n",
    "            yticklabels=labels)\n",
    "\n",
    "plt.xlabel('Predicted', fontsize=12)\n",
    "plt.ylabel('Actual', fontsize=12)\n",
    "plt.title('Confusion Matrix', fontsize=14)\n",
    "\n",
    "plt.setp(ax.get_xticklabels(), rotation=45, ha=\"right\", rotation_mode=\"anchor\")\n",
    "plt.setp(ax.get_yticklabels(), rotation=0, ha=\"right\")\n",
    "\n",
    "plt.tight_layout()\n",
    "plt.show()"
   ]
  },
  {
   "cell_type": "code",
   "execution_count": null,
   "id": "0c854e41-bb84-435e-96db-6312d71c4021",
   "metadata": {},
   "outputs": [],
   "source": []
  }
 ],
 "metadata": {
  "kernelspec": {
   "display_name": "Python 3 (ipykernel)",
   "language": "python",
   "name": "python3"
  },
  "language_info": {
   "codemirror_mode": {
    "name": "ipython",
    "version": 3
   },
   "file_extension": ".py",
   "mimetype": "text/x-python",
   "name": "python",
   "nbconvert_exporter": "python",
   "pygments_lexer": "ipython3",
   "version": "3.12.4"
  }
 },
 "nbformat": 4,
 "nbformat_minor": 5
}
